{
 "cells": [
  {
   "cell_type": "code",
   "execution_count": 1,
   "id": "ff22e7a1-fcbc-4705-b10d-7edaec9542e7",
   "metadata": {},
   "outputs": [],
   "source": [
    "import minsearch"
   ]
  },
  {
   "cell_type": "code",
   "execution_count": 2,
   "id": "f7ea7110-1f42-412d-9531-44c5f7c5e257",
   "metadata": {},
   "outputs": [],
   "source": [
    "import json"
   ]
  },
  {
   "cell_type": "code",
   "execution_count": 3,
   "id": "f27925ad-b3ad-4374-8363-68235b54cb96",
   "metadata": {},
   "outputs": [],
   "source": [
    "with open('documents.json', 'rt') as f_in:\n",
    "    docs_raw = json.load(f_in)"
   ]
  },
  {
   "cell_type": "code",
   "execution_count": 4,
   "id": "a1035a73-8ca8-4e7b-a0ff-0349f2abfbb7",
   "metadata": {},
   "outputs": [],
   "source": [
    "documents = []\n",
    "\n",
    "for course_dict in docs_raw:\n",
    "    for doc in course_dict['documents']:\n",
    "        doc['course'] = course_dict['course']\n",
    "        documents.append(doc)"
   ]
  },
  {
   "cell_type": "code",
   "execution_count": 5,
   "id": "78e9c93d-9039-4551-970f-40eeaf1d45f5",
   "metadata": {},
   "outputs": [],
   "source": [
    "documents = []\n",
    "\n",
    "for course_dict in docs_raw:\n",
    "    for doc in course_dict['documents']:\n",
    "        doc['course'] = course_dict['course']\n",
    "        documents.append(doc)"
   ]
  },
  {
   "cell_type": "code",
   "execution_count": 6,
   "id": "6c717727-c843-4394-8851-6bf9a252bad7",
   "metadata": {},
   "outputs": [],
   "source": [
    "index = minsearch.Index(\n",
    "    text_fields = [\"question\",\"text\",\"section\"],\n",
    "    keyword_fields = [\"course\"]\n",
    ")"
   ]
  },
  {
   "cell_type": "code",
   "execution_count": 7,
   "id": "f15d1f24-4942-49fe-9868-f319cc199295",
   "metadata": {},
   "outputs": [
    {
     "data": {
      "text/plain": [
       "<minsearch.Index at 0x7bb1120ee590>"
      ]
     },
     "execution_count": 7,
     "metadata": {},
     "output_type": "execute_result"
    }
   ],
   "source": [
    "index.fit(documents)"
   ]
  },
  {
   "cell_type": "code",
   "execution_count": 8,
   "id": "318c2ef0-16e3-481c-9de1-167bfbeb4314",
   "metadata": {},
   "outputs": [],
   "source": [
    "query = 'How do I execute a command in a running docker container?'"
   ]
  },
  {
   "cell_type": "code",
   "execution_count": 18,
   "id": "c3981be4-65a5-48e6-9e68-dfc5e69735c0",
   "metadata": {},
   "outputs": [],
   "source": [
    "boost = {'question': 4.0, 'section':0.5}\n",
    "\n",
    "results = index.search(\n",
    "    query=query,\n",
    "    filter_dict={'course': 'machine-learning-zoomcamp'},\n",
    "    boost_dict=boost,\n",
    "    num_results=5\n",
    ")"
   ]
  },
  {
   "cell_type": "code",
   "execution_count": 10,
   "id": "4eb37cf3-6d74-4683-b1b8-f180586cd48f",
   "metadata": {},
   "outputs": [],
   "source": [
    "# results"
   ]
  },
  {
   "cell_type": "code",
   "execution_count": 11,
   "id": "9935a909-a15d-45cb-ae25-5f3f6e49d9a6",
   "metadata": {},
   "outputs": [],
   "source": [
    "from openai import OpenAI"
   ]
  },
  {
   "cell_type": "code",
   "execution_count": 12,
   "id": "a5aead8d-a6d6-4589-9336-99baa70d5967",
   "metadata": {},
   "outputs": [],
   "source": [
    "client = OpenAI()"
   ]
  },
  {
   "cell_type": "code",
   "execution_count": 13,
   "id": "8af6fc5e-3700-4bd5-9185-21a7f2443389",
   "metadata": {},
   "outputs": [],
   "source": [
    "def llm(prompt):\n",
    "    response = client.chat.completions.create(\n",
    "        model='gpt-4o',\n",
    "        messages=[{\"role\": \"user\",\"content\":prompt}]\n",
    "    )\n",
    "    return response.choices[0].message.content"
   ]
  },
  {
   "cell_type": "code",
   "execution_count": 19,
   "id": "11c3a10a-2784-45ca-b084-7777f2427bd8",
   "metadata": {},
   "outputs": [
    {
     "data": {
      "text/plain": [
       "'To execute a command in a running Docker container, you can use the `docker exec` command. This allows you to run commands inside an existing, running container. Below are the general steps and examples for executing commands in a Docker container:\\n\\n### Step-by-Step Instructions:\\n\\n1. **Identify the Container ID or Name:**\\n   First, you need to know either the `CONTAINER ID` or the `name` of the container you want to access. You can list all running containers with:\\n   ```sh\\n   docker ps\\n   ```\\n   This will display a list of all currently running containers along with their IDs and names.\\n\\n2. **Execute a Command:**\\n   Use the `docker exec` command to run a command inside the container. The basic syntax is:\\n   ```sh\\n   docker exec [OPTIONS] CONTAINER COMMAND [ARG...]\\n   ```\\n   - Replace `CONTAINER` with the container ID or name.\\n   - Replace `COMMAND` with the command you wish to run.\\n   - `[OPTIONS]` can be various flags you want to pass (optional).\\n\\n3. **Examples:**\\n\\n   - **Run a simple command like `ls`:**\\n     ```sh\\n     docker exec <container_id_or_name> ls /app\\n     ```\\n   \\n   - **Open a shell (e.g., `bash`):**\\n     ```sh\\n     docker exec -it <container_id_or_name> bash\\n     ```\\n     The `-it` flag is used to run in interactive mode with a TTY.\\n   \\n   - **Run a background process (`-d` for detached mode):**\\n     ```sh\\n     docker exec -d <container_id_or_name> some_background_command\\n     ```\\n\\n   - **Run a command as a specific user (e.g., `www-data`):**\\n     ```sh\\n     docker exec -u www-data <container_id_or_name> some_command\\n     ```\\n\\n### Example Usage:\\n\\nSuppose you have a running container with the name `my_container` and you want to list the files in the `/var` directory inside the container.\\n\\n1. **List running containers (optional to identify the container):**\\n   ```sh\\n   docker ps\\n   ```\\n   Output might look like:\\n   ```\\n   CONTAINER ID   IMAGE        COMMAND                  CREATED        STATUS        PORTS                NAMES\\n   abc123def456   ubuntu:20.04 \"/bin/bash\"              5 hours ago    Up 5 hours                        my_container\\n   ```\\n\\n2. **Execute the `ls` command inside the container:**\\n   ```sh\\n   docker exec my_container ls /var\\n   ```\\n   Output will list the contents of the `/var` directory inside the `my_container` container.\\n\\n### Notes:\\n\\n- Use the `-it` flag if you want to interact with the container in real-time, especially useful for shell access.\\n  \\n- Make sure you have the necessary permissions to interact with Docker and the container.\\n\\nBy following these steps, you should be able to execute any command inside a running Docker container.'"
      ]
     },
     "execution_count": 19,
     "metadata": {},
     "output_type": "execute_result"
    }
   ],
   "source": [
    "llm(query)"
   ]
  },
  {
   "cell_type": "code",
   "execution_count": 20,
   "id": "ddbf5e7c-74e7-4b4b-adf6-f5131263d93f",
   "metadata": {},
   "outputs": [],
   "source": [
    "prompt_template = \"\"\"\n",
    "You're a course teaching assistant. Answer the QUESTION based on the CONTEXT from the FAQ database.\n",
    "Use only the facts from the CONTEXT when answering the QUESTION.\n",
    "\n",
    "Q: {question}\n",
    "\n",
    "{context}\n",
    "\"\"\".strip()"
   ]
  },
  {
   "cell_type": "code",
   "execution_count": 21,
   "id": "e158add0-3f44-4b86-b561-83bf9e7adffb",
   "metadata": {},
   "outputs": [],
   "source": [
    "context = \"\"\n",
    "\n",
    "for doc in results:\n",
    "    context = context + f\"question: {doc['question']}\\nanswer: {doc['text']}\\n\\n\" "
   ]
  },
  {
   "cell_type": "code",
   "execution_count": 23,
   "id": "55e8e540-7ff7-48dc-b38d-8a3203db574d",
   "metadata": {},
   "outputs": [],
   "source": [
    "prompt = prompt_template.format(question=query, context=context).strip()"
   ]
  },
  {
   "cell_type": "code",
   "execution_count": 24,
   "id": "7796e158-5090-4234-ae54-854566ee72ca",
   "metadata": {},
   "outputs": [
    {
     "data": {
      "text/plain": [
       "2462"
      ]
     },
     "execution_count": 24,
     "metadata": {},
     "output_type": "execute_result"
    }
   ],
   "source": [
    "len(prompt)"
   ]
  },
  {
   "cell_type": "code",
   "execution_count": 28,
   "id": "4f4ad909-8f3c-440b-881b-66011d8d71f0",
   "metadata": {},
   "outputs": [],
   "source": [
    "# !pip install tiktoken\n",
    "import tiktoken"
   ]
  },
  {
   "cell_type": "code",
   "execution_count": 29,
   "id": "f5d4734c-702a-4122-b6fe-bb152cf17a7a",
   "metadata": {},
   "outputs": [],
   "source": [
    "encoding = tiktoken.encoding_for_model(\"gpt-4o\")"
   ]
  },
  {
   "cell_type": "code",
   "execution_count": 37,
   "id": "23e810c8-fd12-4c7c-a295-5ecb7e1b50a5",
   "metadata": {},
   "outputs": [
    {
     "name": "stdout",
     "output_type": "stream",
     "text": [
      "529\n"
     ]
    }
   ],
   "source": [
    "tokens = encoding.encode(prompt)\n",
    "print(len(tokens))"
   ]
  },
  {
   "cell_type": "code",
   "execution_count": null,
   "id": "7df4b457-1d68-404d-a40f-333a99b97d05",
   "metadata": {},
   "outputs": [],
   "source": []
  }
 ],
 "metadata": {
  "kernelspec": {
   "display_name": "Python 3 (ipykernel)",
   "language": "python",
   "name": "python3"
  },
  "language_info": {
   "codemirror_mode": {
    "name": "ipython",
    "version": 3
   },
   "file_extension": ".py",
   "mimetype": "text/x-python",
   "name": "python",
   "nbconvert_exporter": "python",
   "pygments_lexer": "ipython3",
   "version": "3.10.13"
  }
 },
 "nbformat": 4,
 "nbformat_minor": 5
}
